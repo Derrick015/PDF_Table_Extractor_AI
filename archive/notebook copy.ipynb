{
 "cells": [
  {
   "cell_type": "code",
   "execution_count": 1,
   "metadata": {},
   "outputs": [],
   "source": [
    "from dotenv import load_dotenv\n",
    "from openai import OpenAI\n",
    "import os\n",
    "\n",
    "# Load environment variables from the .env file\n",
    "load_dotenv()\n",
    "\n",
    "# Get the API key from the environment variable\n",
    "\n",
    "open_api_key = os.getenv('OPENAI_API_KEY')\n",
    "\n",
    "# Initialize OpenAI client\n",
    "\n",
    "openai_client = OpenAI(api_key = open_api_key)\n"
   ]
  },
  {
   "cell_type": "code",
   "execution_count": 2,
   "metadata": {},
   "outputs": [],
   "source": [
    "# ! pip install pdf2image"
   ]
  },
  {
   "cell_type": "code",
   "execution_count": 2,
   "metadata": {},
   "outputs": [
    {
     "ename": "ModuleNotFoundError",
     "evalue": "No module named 'modules'",
     "output_type": "error",
     "traceback": [
      "\u001b[1;31m---------------------------------------------------------------------------\u001b[0m",
      "\u001b[1;31mModuleNotFoundError\u001b[0m                       Traceback (most recent call last)",
      "Cell \u001b[1;32mIn[2], line 2\u001b[0m\n\u001b[0;32m      1\u001b[0m \u001b[38;5;28;01mimport\u001b[39;00m\u001b[38;5;250m \u001b[39m\u001b[38;5;21;01mimportlib\u001b[39;00m\n\u001b[1;32m----> 2\u001b[0m \u001b[38;5;28;01mimport\u001b[39;00m\u001b[38;5;250m \u001b[39m\u001b[38;5;21;01mmodules\u001b[39;00m\u001b[38;5;21;01m.\u001b[39;00m\u001b[38;5;21;01mpdf_extraction\u001b[39;00m\n\u001b[0;32m      3\u001b[0m importlib\u001b[38;5;241m.\u001b[39mreload(modules\u001b[38;5;241m.\u001b[39mpdf_extraction)\n\u001b[0;32m      4\u001b[0m \u001b[38;5;28;01mfrom\u001b[39;00m\u001b[38;5;250m \u001b[39m\u001b[38;5;21;01mmodules\u001b[39;00m\u001b[38;5;21;01m.\u001b[39;00m\u001b[38;5;21;01mpdf_extraction\u001b[39;00m\u001b[38;5;250m \u001b[39m\u001b[38;5;28;01mimport\u001b[39;00m extract_text_from_pages, select_pdf_file\n",
      "\u001b[1;31mModuleNotFoundError\u001b[0m: No module named 'modules'"
     ]
    }
   ],
   "source": [
    "import importlib\n",
    "import modules.pdf_extraction\n",
    "importlib.reload(modules.pdf_extraction)\n",
    "from modules.pdf_extraction import extract_text_from_pages, select_pdf_file\n"
   ]
  },
  {
   "cell_type": "code",
   "execution_count": null,
   "metadata": {},
   "outputs": [
    {
     "name": "stderr",
     "output_type": "stream",
     "text": [
      "2025-02-08 23:03:07,739 - INFO - Opening file selection dialog.\n",
      "2025-02-08 23:03:24,083 - INFO - Selected PDF file: C:/Users/derri/Desktop/page0027.pdf\n"
     ]
    }
   ],
   "source": [
    "pdf_path = select_pdf_file()"
   ]
  },
  {
   "cell_type": "code",
   "execution_count": null,
   "metadata": {},
   "outputs": [],
   "source": [
    "# 15\n",
    "page_no = 0\n",
    "extracted_text = extract_text_from_pages(pdf_path, pages=page_no)\n"
   ]
  },
  {
   "cell_type": "code",
   "execution_count": null,
   "metadata": {},
   "outputs": [
    {
     "data": {
      "text/plain": [
       "'1. Number of Tables on the Page: 7\\n\\n2. Table Headers: Metric Male 24° Cone Seat, S Series, DIN 3865 || Metric Female 24° Cone Seat, S Series, DIN 3865 || 90° Metric Female 24° Cone Seat, S Series, DIN 3865 || Standpipe, S Series || 45° Metric Female 24° Cone Seat, S Series, DIN 3865 || 45° Standpipe, S Series || 90° Standpipe, S Series\\n\\n3. Rules for Parsing Tables and Headers: \\n   - Tables are often introduced with a descriptive header that includes metric specifications, usually in bold or distinct formatting.\\n   - Each table is structured with clearly defined columns. Common column labels include \"Thread,\" \"OD mm,\" \"To Suit Hose ID,\" and \"Size.\"\\n   - Headers may contain angle specifications (e.g., 24°, 45°, 90°) and component type descriptions (e.g., Cone Seat, Standpipe).\\n   - Identify tables by looking for repeated column headers and consistent row patterns.\\n   - Visual cues such as lines or spacing between lists can help determine the table boundaries.'"
      ]
     },
     "execution_count": 220,
     "metadata": {},
     "output_type": "execute_result"
    }
   ],
   "source": [
    "import pymupdf \n",
    "## 111\n",
    "import base64\n",
    "import requests\n",
    "\n",
    "import importlib\n",
    "import modules.llm\n",
    "import modules.pdf_extraction\n",
    "importlib.reload(modules.llm)\n",
    "importlib.reload(modules.pdf_extraction)\n",
    "\n",
    "from modules.llm import pattern_description_llm, table_extraction\n",
    "from modules.pdf_extraction import get_page_pixel_data\n",
    "\n",
    "base64_image = get_page_pixel_data(pdf_path=pdf_path, page_no=page_no, \n",
    "                    dpi = 300, image_type = 'png')\n",
    "\n",
    "pattern_desc_from_image = pattern_description_llm(text_input = extracted_text, model='gpt-4o',  base64_image = base64_image, open_api_key=open_api_key)\n",
    "\n",
    "pattern_desc_from_image\n",
    "\n",
    "# Function to process each row in parallel\n",
    "# open ai does not seem to have structed output for this image input version.\n",
    "# Ill pass it as text to the next llm# 111"
   ]
  },
  {
   "cell_type": "code",
   "execution_count": null,
   "metadata": {},
   "outputs": [
    {
     "ename": "ZeroDivisionError",
     "evalue": "division by zero",
     "output_type": "error",
     "traceback": [
      "\u001b[1;31m---------------------------------------------------------------------------\u001b[0m",
      "\u001b[1;31mZeroDivisionError\u001b[0m                         Traceback (most recent call last)",
      "Cell \u001b[1;32mIn[221], line 1\u001b[0m\n\u001b[1;32m----> 1\u001b[0m \u001b[38;5;241;43m1\u001b[39;49m\u001b[38;5;241;43m/\u001b[39;49m\u001b[38;5;241;43m0\u001b[39;49m\n",
      "\u001b[1;31mZeroDivisionError\u001b[0m: division by zero"
     ]
    }
   ],
   "source": [
    "1/0"
   ]
  },
  {
   "cell_type": "code",
   "execution_count": null,
   "metadata": {},
   "outputs": [
    {
     "name": "stderr",
     "output_type": "stream",
     "text": [
      "2025-02-08 21:18:43,831 - INFO - HTTP Request: POST https://api.openai.com/v1/chat/completions \"HTTP/1.1 200 OK\"\n"
     ]
    },
    {
     "data": {
      "text/plain": [
       "['Category in WGIII',\n",
       " 'Category description',\n",
       " 'GHG emissions scenarios (SSPx-y*) in WGI & WGII',\n",
       " 'RCPy** in WGI & WGII']"
      ]
     },
     "execution_count": 63,
     "metadata": {},
     "output_type": "execute_result"
    }
   ],
   "source": [
    "import importlib\n",
    "import modules.llm\n",
    "importlib.reload(modules.llm)\n",
    "\n",
    "\n",
    "from modules.llm import table_extraction\n",
    "\n",
    "\n",
    "table_output = table_extraction(pattern_data = pattern_desc_from_image, text_data =extracted_text, model = \"gpt-4o\", openai_client=openai_client)\n",
    "table_output"
   ]
  },
  {
   "cell_type": "code",
   "execution_count": null,
   "metadata": {},
   "outputs": [
    {
     "data": {
      "text/plain": [
       "'The image and textual data indicate the presence of several organized tables. Here’s an analysis:\\n\\n### Table Structure and Organization:\\n\\n1. **Hydraulic Hose Range (Header Section):**\\n   - **Title:** \"HYDRAULIC HOSE RANGE\"\\n   - **Subtitle:** EN853-1, DIN20022 (Exceeds SAE 100R1AT)\\n\\n2. **Tables (Data Section):**\\n   - **Table 1:** 1 Wire, 100 Metre Coils\\n     - **Columns:** ID, OD mm, Max Pressure Bar, Bend Radius mm, Burst Pressure Bar\\n     - **Rows:** Multiple entries detailing specifications for different hose IDs like 100R1AT-03-100, 100R1AT-04-100, etc.\\n     - **Repeating Header Info:** Tech Sheet 5001\\n\\n   - **Table 2:** 1 Wire, 40 Metre Coils\\n     - **Columns:** ID, OD mm, Max Pressure Bar, Bend Radius mm, Burst Pressure Bar\\n     - **Rows:** Separate entries such as 100R1AT-20-40 and 100R1AT-24-40.\\n\\n   - **Table 3:** Technical Data - Hydraulic Hose, EN853, DIN20022, SAE100R1AT\\n     - **Columns:** Part Number, Size mm/inch, Working Pressure bar/psi, Burst Pressure bar/psi, Bend Radius Inch/mm, Swaging Dimensions (includes several sub-columns: FT3 Type Ferrule, Swage Dia. in mm, Tail ID Top Tolerance mm, Tail ID Bottom Tolerance mm, Swaged No Go mm, Swaged Go mm)\\n     - **Rows:** Entries correspond to different part numbers like 100R1AT-03, 100R1AT-04, etc.\\n\\n### Patterns for Parsing:\\n\\n- **Headers and Titles:**\\n  - Headers are typically bold and centered or left-aligned with a clear title hierarchy.\\n  - Table titles are followed by a separator (like a line or spacing) and the columns are aligned horizontally.\\n\\n- **Columns:**\\n  - Columns are consistently spaced and aligned under the table headers.\\n  - The text extracted aligns with the visual layout, where the columns are noted as individual sections following headers.\\n\\n- **Rows:**\\n  - Each row represents a distinct data entry that is horizontally aligned.\\n  - In text, rows are clearly separated by spacing or line'"
      ]
     },
     "execution_count": 22,
     "metadata": {},
     "output_type": "execute_result"
    }
   ],
   "source": [
    "pattern_desc_from_image"
   ]
  },
  {
   "cell_type": "code",
   "execution_count": null,
   "metadata": {},
   "outputs": [
    {
     "name": "stderr",
     "output_type": "stream",
     "text": [
      "2025-02-06 23:44:40,496 - INFO - HTTP Request: POST https://api.openai.com/v1/chat/completions \"HTTP/1.1 200 OK\"\n"
     ]
    },
    {
     "name": "stdout",
     "output_type": "stream",
     "text": [
      "['od_mm', 'to_suit_hose_id', 'size', 'header', '0309', 'thread', 'table_number']\n"
     ]
    },
    {
     "name": "stderr",
     "output_type": "stream",
     "text": [
      "2025-02-06 23:46:02,206 - INFO - HTTP Request: POST https://api.openai.com/v1/chat/completions \"HTTP/1.1 200 OK\"\n"
     ]
    },
    {
     "data": {
      "text/html": [
       "<div>\n",
       "<style scoped>\n",
       "    .dataframe tbody tr th:only-of-type {\n",
       "        vertical-align: middle;\n",
       "    }\n",
       "\n",
       "    .dataframe tbody tr th {\n",
       "        vertical-align: top;\n",
       "    }\n",
       "\n",
       "    .dataframe thead th {\n",
       "        text-align: right;\n",
       "    }\n",
       "</style>\n",
       "<table border=\"1\" class=\"dataframe\">\n",
       "  <thead>\n",
       "    <tr style=\"text-align: right;\">\n",
       "      <th></th>\n",
       "      <th>od_mm</th>\n",
       "      <th>to_suit_hose_id</th>\n",
       "      <th>size</th>\n",
       "      <th>header</th>\n",
       "      <th>0309</th>\n",
       "      <th>thread</th>\n",
       "      <th>table_number</th>\n",
       "    </tr>\n",
       "  </thead>\n",
       "  <tbody>\n",
       "    <tr>\n",
       "      <th>0</th>\n",
       "      <td></td>\n",
       "      <td>3/16”</td>\n",
       "      <td>8S</td>\n",
       "      <td>Metric Male 24¡ Cone Seat, S Series, DIN 3865</td>\n",
       "      <td>HMMS03-M16CF</td>\n",
       "      <td>M16 x 1.5</td>\n",
       "      <td>1</td>\n",
       "    </tr>\n",
       "    <tr>\n",
       "      <th>1</th>\n",
       "      <td></td>\n",
       "      <td>1/4”</td>\n",
       "      <td>6S</td>\n",
       "      <td>Metric Male 24¡ Cone Seat, S Series, DIN 3865</td>\n",
       "      <td>HMMS04-M14CF</td>\n",
       "      <td>M14 x 1.5</td>\n",
       "      <td>1</td>\n",
       "    </tr>\n",
       "    <tr>\n",
       "      <th>2</th>\n",
       "      <td></td>\n",
       "      <td>1/4”</td>\n",
       "      <td>8S</td>\n",
       "      <td>Metric Male 24¡ Cone Seat, S Series, DIN 3865</td>\n",
       "      <td>HMMS04-M16CF</td>\n",
       "      <td>M16 x 1.5</td>\n",
       "      <td>1</td>\n",
       "    </tr>\n",
       "    <tr>\n",
       "      <th>3</th>\n",
       "      <td></td>\n",
       "      <td>1/4”</td>\n",
       "      <td>10S</td>\n",
       "      <td>Metric Male 24¡ Cone Seat, S Series, DIN 3865</td>\n",
       "      <td>HMMS04-M18CF</td>\n",
       "      <td>M18 x 1.5</td>\n",
       "      <td>1</td>\n",
       "    </tr>\n",
       "    <tr>\n",
       "      <th>4</th>\n",
       "      <td></td>\n",
       "      <td>5/16”</td>\n",
       "      <td>10S</td>\n",
       "      <td>Metric Male 24¡ Cone Seat, S Series, DIN 3865</td>\n",
       "      <td>HMMS05-M18CF</td>\n",
       "      <td>M18 x 1.5</td>\n",
       "      <td>1</td>\n",
       "    </tr>\n",
       "    <tr>\n",
       "      <th>...</th>\n",
       "      <td>...</td>\n",
       "      <td>...</td>\n",
       "      <td>...</td>\n",
       "      <td>...</td>\n",
       "      <td>...</td>\n",
       "      <td>...</td>\n",
       "      <td>...</td>\n",
       "    </tr>\n",
       "    <tr>\n",
       "      <th>104</th>\n",
       "      <td>None</td>\n",
       "      <td>1”</td>\n",
       "      <td></td>\n",
       "      <td>None</td>\n",
       "      <td>HSSP16-45-25CF</td>\n",
       "      <td></td>\n",
       "      <td>7</td>\n",
       "    </tr>\n",
       "    <tr>\n",
       "      <th>105</th>\n",
       "      <td>None</td>\n",
       "      <td>1”</td>\n",
       "      <td></td>\n",
       "      <td>None</td>\n",
       "      <td>HSSP16-45-30CF</td>\n",
       "      <td></td>\n",
       "      <td>7</td>\n",
       "    </tr>\n",
       "    <tr>\n",
       "      <th>106</th>\n",
       "      <td>None</td>\n",
       "      <td>1”</td>\n",
       "      <td></td>\n",
       "      <td>None</td>\n",
       "      <td>HSSP16-45-38CF</td>\n",
       "      <td></td>\n",
       "      <td>7</td>\n",
       "    </tr>\n",
       "    <tr>\n",
       "      <th>107</th>\n",
       "      <td>None</td>\n",
       "      <td>1.1/4”</td>\n",
       "      <td></td>\n",
       "      <td>None</td>\n",
       "      <td>HSSP20-45-30CF</td>\n",
       "      <td></td>\n",
       "      <td>7</td>\n",
       "    </tr>\n",
       "    <tr>\n",
       "      <th>108</th>\n",
       "      <td>None</td>\n",
       "      <td>1.1/4”</td>\n",
       "      <td></td>\n",
       "      <td>None</td>\n",
       "      <td>HSSP20-45-38CF</td>\n",
       "      <td></td>\n",
       "      <td>7</td>\n",
       "    </tr>\n",
       "  </tbody>\n",
       "</table>\n",
       "<p>109 rows × 7 columns</p>\n",
       "</div>"
      ],
      "text/plain": [
       "    od_mm to_suit_hose_id size                                         header  \\\n",
       "0                   3/16”   8S  Metric Male 24¡ Cone Seat, S Series, DIN 3865   \n",
       "1                    1/4”   6S  Metric Male 24¡ Cone Seat, S Series, DIN 3865   \n",
       "2                    1/4”   8S  Metric Male 24¡ Cone Seat, S Series, DIN 3865   \n",
       "3                    1/4”  10S  Metric Male 24¡ Cone Seat, S Series, DIN 3865   \n",
       "4                   5/16”  10S  Metric Male 24¡ Cone Seat, S Series, DIN 3865   \n",
       "..    ...             ...  ...                                            ...   \n",
       "104  None              1”                                                None   \n",
       "105  None              1”                                                None   \n",
       "106  None              1”                                                None   \n",
       "107  None          1.1/4”                                                None   \n",
       "108  None          1.1/4”                                                None   \n",
       "\n",
       "               0309     thread table_number  \n",
       "0      HMMS03-M16CF  M16 x 1.5            1  \n",
       "1      HMMS04-M14CF  M14 x 1.5            1  \n",
       "2      HMMS04-M16CF  M16 x 1.5            1  \n",
       "3      HMMS04-M18CF  M18 x 1.5            1  \n",
       "4      HMMS05-M18CF  M18 x 1.5            1  \n",
       "..              ...        ...          ...  \n",
       "104  HSSP16-45-25CF                       7  \n",
       "105  HSSP16-45-30CF                       7  \n",
       "106  HSSP16-45-38CF                       7  \n",
       "107  HSSP20-45-30CF                       7  \n",
       "108  HSSP20-45-38CF                       7  \n",
       "\n",
       "[109 rows x 7 columns]"
      ]
     },
     "execution_count": 63,
     "metadata": {},
     "output_type": "execute_result"
    }
   ],
   "source": [
    "from pydantic import create_model\n",
    "import json\n",
    "import pandas as pd \n",
    "\n",
    "import importlib\n",
    "import modules.llm\n",
    "importlib.reload(modules.llm)\n",
    "from modules.llm import llm_parser\n",
    "\n",
    "\n",
    "import importlib\n",
    "import modules.llm\n",
    "importlib.reload(modules.llm)\n",
    "from modules.llm import variable_extractor_llm\n",
    "\n",
    "# Could targeting tables then extracting from each one by one and then concating be the best way to go ?\n",
    "# how do i identify tables\n",
    "\n",
    "# If user provided then\n",
    "\n",
    "text_1 = \"\"\" \n",
    "\n",
    "Extract all data from \n",
    "\n",
    "\n",
    "\"\"\"\n",
    "#  pattern = pattern_output,\n",
    "# If no user provided then get a default template\n",
    "\n",
    "pattern_output = pattern_description_llm(text_input=extracted_text, base64_image = base64_image, open_api_key= open_api_key )\n",
    "\n",
    "\n",
    "var_list =  variable_extractor_llm(user_text=text_1, text_data=extracted_text, openai_client=openai_client, model='o3-mini') # gpt-4o\n",
    "\n",
    "\n",
    "# Assume these are the field names coming from the front end\n",
    "input_fields = list(set(var_list))\n",
    "\n",
    "input_fields.append('table_number')  # To differential tables\n",
    "print(input_fields)\n",
    "\n",
    "#   Build a dictionary defining the field names and their types.\n",
    "#  I will assume each field required a list of strings.\n",
    "field_definitions = {field: (list[str], ...) for field in input_fields}\n",
    "\n",
    "# Dynamically create a new Pydantic model \n",
    "dynamic_structured_output_class = create_model('structured_output', **field_definitions)\n",
    "\n",
    "\n",
    "completion = llm_parser(user_text = text_1, \n",
    "                        target_variables= var_list,\n",
    "                        openai_client = openai_client,\n",
    "                        pattern=pattern_output,\n",
    "                        text_document=extracted_text,\n",
    "                        response_format=dynamic_structured_output_class,\n",
    "                        model='o3-mini') # o3-mini gpt-4o\n",
    "\n",
    "out  = completion.choices[0].message.content\n",
    "\n",
    "data = json.loads(out)\n",
    "\n",
    "# To ensure all columns are of the same length\n",
    "# Determine the maximum length among the arrays\n",
    "max_len = max(len(lst) for lst in data.values())\n",
    "\n",
    "# Pad each list to have the same length\n",
    "for key, lst in data.items():\n",
    "    if len(lst) < max_len:\n",
    "        lst.extend([None] * (max_len - len(lst)))\n",
    "\n",
    "# Create a DataFrame from the dictionary\n",
    "df = pd.DataFrame(data)\n",
    "\n",
    "df # ensure columsn returnd are ascii clean white spaces\n",
    "\n",
    "#error handling try and except \n",
    "# Perhaps retry when JSON error happens\n",
    "# Factorise table numbers. Sometimes i can choose 2 with no other tables present"
   ]
  },
  {
   "cell_type": "code",
   "execution_count": null,
   "metadata": {},
   "outputs": [],
   "source": []
  },
  {
   "cell_type": "code",
   "execution_count": null,
   "metadata": {},
   "outputs": [],
   "source": []
  },
  {
   "cell_type": "code",
   "execution_count": null,
   "metadata": {},
   "outputs": [],
   "source": [
    "1/0"
   ]
  },
  {
   "cell_type": "code",
   "execution_count": null,
   "metadata": {},
   "outputs": [
    {
     "name": "stdout",
     "output_type": "stream",
     "text": [
      "Collecting pdfplumber\n",
      "  Using cached pdfplumber-0.11.5-py3-none-any.whl.metadata (42 kB)\n",
      "Collecting pdfminer.six==20231228 (from pdfplumber)\n",
      "  Using cached pdfminer.six-20231228-py3-none-any.whl.metadata (4.2 kB)\n",
      "Requirement already satisfied: Pillow>=9.1 in c:\\users\\derri\\anaconda3\\envs\\pdf_ai\\lib\\site-packages (from pdfplumber) (11.1.0)\n",
      "Requirement already satisfied: pypdfium2>=4.18.0 in c:\\users\\derri\\anaconda3\\envs\\pdf_ai\\lib\\site-packages (from pdfplumber) (4.30.1)\n",
      "Requirement already satisfied: charset-normalizer>=2.0.0 in c:\\users\\derri\\anaconda3\\envs\\pdf_ai\\lib\\site-packages (from pdfminer.six==20231228->pdfplumber) (3.4.1)\n",
      "Collecting cryptography>=36.0.0 (from pdfminer.six==20231228->pdfplumber)\n",
      "  Using cached cryptography-44.0.0-cp39-abi3-win_amd64.whl.metadata (5.7 kB)\n",
      "Collecting cffi>=1.12 (from cryptography>=36.0.0->pdfminer.six==20231228->pdfplumber)\n",
      "  Using cached cffi-1.17.1-cp312-cp312-win_amd64.whl.metadata (1.6 kB)\n",
      "Collecting pycparser (from cffi>=1.12->cryptography>=36.0.0->pdfminer.six==20231228->pdfplumber)\n",
      "  Using cached pycparser-2.22-py3-none-any.whl.metadata (943 bytes)\n",
      "Using cached pdfplumber-0.11.5-py3-none-any.whl (59 kB)\n",
      "Using cached pdfminer.six-20231228-py3-none-any.whl (5.6 MB)\n",
      "Using cached cryptography-44.0.0-cp39-abi3-win_amd64.whl (3.2 MB)\n",
      "Using cached cffi-1.17.1-cp312-cp312-win_amd64.whl (181 kB)\n",
      "Using cached pycparser-2.22-py3-none-any.whl (117 kB)\n",
      "Installing collected packages: pycparser, cffi, cryptography, pdfminer.six, pdfplumber\n",
      "Successfully installed cffi-1.17.1 cryptography-44.0.0 pdfminer.six-20231228 pdfplumber-0.11.5 pycparser-2.22\n"
     ]
    }
   ],
   "source": [
    "!pip install pdfplumber"
   ]
  },
  {
   "cell_type": "code",
   "execution_count": null,
   "metadata": {},
   "outputs": [
    {
     "name": "stdout",
     "output_type": "stream",
     "text": [
      "             0     1      2                   3                 4   \\\n",
      "0          0303    ID  OD mm  Max\\nPressure\\nBar  Bend\\nRadius\\nmm   \n",
      "1          0303    ID  OD mm  Max\\nPressure\\nBar  Bend\\nRadius\\nmm   \n",
      "2  Part\\nNumber  Size   None   Working\\nPressure              None   \n",
      "3          None    mm   inch                 bar               psi   \n",
      "4    100R1AT-03   4.7   3/16                 250              3625   \n",
      "\n",
      "                     5      6            7     8                   9   \\\n",
      "0  Burst\\nPressure\\nBar    NaN          NaN   NaN                 NaN   \n",
      "1  Burst\\nPressure\\nBar    NaN          NaN   NaN                 NaN   \n",
      "2       Burst\\nPressure   None  Bend Radius  None  Swaging Dimensions   \n",
      "3                   bar    psi         Inch    mm   FT3 Type\\nFerrule   \n",
      "4                  1000  14503         3.54    90         FT3-12-03CF   \n",
      "\n",
      "                  10                      11                          12  \\\n",
      "0                NaN                     NaN                         NaN   \n",
      "1                NaN                     NaN                         NaN   \n",
      "2               None  Tail ID Top\\nTolerance  Tail ID\\nBottom\\nTolerance   \n",
      "3  Swage Dia.\\nin mm                      mm                          mm   \n",
      "4                 15                    2.89                        3.05   \n",
      "\n",
      "              13          14  \n",
      "0            NaN         NaN  \n",
      "1            NaN         NaN  \n",
      "2  Swaged\\nNo Go  Swaged\\nGo  \n",
      "3             mm          mm  \n",
      "4           2.80        2.93  \n"
     ]
    }
   ],
   "source": [
    "import pdfplumber\n",
    "import pandas as pd\n",
    "\n",
    "def extract_tables_from_pdf(pdf_path, output_csv=None):\n",
    "    tables = []\n",
    "    with pdfplumber.open(pdf_path) as pdf:\n",
    "        for page in pdf.pages:\n",
    "            extracted_tables = page.extract_tables()\n",
    "            for table in extracted_tables:\n",
    "                tables.append(pd.DataFrame(table))\n",
    "    \n",
    "    # Combine tables into one DataFrame if needed\n",
    "    if tables:\n",
    "        df = pd.concat(tables, ignore_index=True)\n",
    "        if output_csv:\n",
    "            df.to_csv(output_csv, index=False)\n",
    "        return df\n",
    "    else:\n",
    "        return None\n",
    "\n",
    "# Example usage\n",
    "\n",
    "output_csv = \"output.csv\"  # Optional: specify a CSV file to save the extracted table\n",
    "df = extract_tables_from_pdf(pdf_path=pdf_path, output_csv=output_csv)\n",
    "\n",
    "if df is not None:\n",
    "    print(df.head())  # Display first few rows\n",
    "else:\n",
    "    print(\"No tables found in the PDF.\")\n"
   ]
  },
  {
   "cell_type": "code",
   "execution_count": null,
   "metadata": {},
   "outputs": [],
   "source": [
    "from img2table.document import PDF\n",
    "\n",
    "doc = PDF(src=pdf_path, \n",
    "          pages=None,\n",
    "          detect_rotation=False,\n",
    "          pdf_text_extraction=True)"
   ]
  },
  {
   "cell_type": "code",
   "execution_count": null,
   "metadata": {},
   "outputs": [],
   "source": []
  },
  {
   "cell_type": "code",
   "execution_count": null,
   "metadata": {},
   "outputs": [
    {
     "ename": "OSError",
     "evalue": "Tesseract not found in environment. Check variables and PATH",
     "output_type": "error",
     "traceback": [
      "\u001b[1;31m---------------------------------------------------------------------------\u001b[0m",
      "\u001b[1;31mOSError\u001b[0m                                   Traceback (most recent call last)",
      "Cell \u001b[1;32mIn[24], line 6\u001b[0m\n\u001b[0;32m      3\u001b[0m \u001b[38;5;28;01mimport\u001b[39;00m\u001b[38;5;250m \u001b[39m\u001b[38;5;21;01mpytesseract\u001b[39;00m\n\u001b[0;32m      5\u001b[0m \u001b[38;5;66;03m# Instantiation of OCR\u001b[39;00m\n\u001b[1;32m----> 6\u001b[0m ocr \u001b[38;5;241m=\u001b[39m \u001b[43mTesseractOCR\u001b[49m\u001b[43m(\u001b[49m\u001b[43mn_threads\u001b[49m\u001b[38;5;241;43m=\u001b[39;49m\u001b[38;5;241;43m1\u001b[39;49m\u001b[43m,\u001b[49m\u001b[43m \u001b[49m\u001b[43mlang\u001b[49m\u001b[38;5;241;43m=\u001b[39;49m\u001b[38;5;124;43m\"\u001b[39;49m\u001b[38;5;124;43meng\u001b[39;49m\u001b[38;5;124;43m\"\u001b[39;49m\u001b[43m)\u001b[49m\n\u001b[0;32m      8\u001b[0m \u001b[38;5;66;03m# Instantiation of document, either an image or a PDF\u001b[39;00m\n\u001b[0;32m      9\u001b[0m \u001b[38;5;66;03m# doc = Image(pdf_path)\u001b[39;00m\n\u001b[0;32m     10\u001b[0m \n\u001b[0;32m     11\u001b[0m \u001b[38;5;66;03m# Table extraction\u001b[39;00m\n\u001b[0;32m     12\u001b[0m extracted_tables \u001b[38;5;241m=\u001b[39m doc\u001b[38;5;241m.\u001b[39mextract_tables(ocr\u001b[38;5;241m=\u001b[39mocr,\n\u001b[0;32m     13\u001b[0m                                       implicit_rows\u001b[38;5;241m=\u001b[39m\u001b[38;5;28;01mFalse\u001b[39;00m,\n\u001b[0;32m     14\u001b[0m                                       implicit_columns\u001b[38;5;241m=\u001b[39m\u001b[38;5;28;01mFalse\u001b[39;00m,\n\u001b[0;32m     15\u001b[0m                                       borderless_tables\u001b[38;5;241m=\u001b[39m\u001b[38;5;28;01mFalse\u001b[39;00m,\n\u001b[0;32m     16\u001b[0m                                       min_confidence\u001b[38;5;241m=\u001b[39m\u001b[38;5;241m50\u001b[39m)\n",
      "File \u001b[1;32mc:\\Users\\derri\\anaconda3\\envs\\pdf_ai\\Lib\\site-packages\\img2table\\ocr\\tesseract.py:56\u001b[0m, in \u001b[0;36mTesseractOCR.__init__\u001b[1;34m(self, n_threads, lang, psm, tessdata_dir)\u001b[0m\n\u001b[0;32m     54\u001b[0m cmd_tess \u001b[38;5;241m=\u001b[39m subprocess\u001b[38;5;241m.\u001b[39mrun(\u001b[38;5;124m\"\u001b[39m\u001b[38;5;124mtesseract --version\u001b[39m\u001b[38;5;124m\"\u001b[39m, env\u001b[38;5;241m=\u001b[39m\u001b[38;5;28mself\u001b[39m\u001b[38;5;241m.\u001b[39menv, shell\u001b[38;5;241m=\u001b[39m\u001b[38;5;28;01mTrue\u001b[39;00m)\n\u001b[0;32m     55\u001b[0m \u001b[38;5;28;01mif\u001b[39;00m cmd_tess\u001b[38;5;241m.\u001b[39mreturncode \u001b[38;5;241m!=\u001b[39m \u001b[38;5;241m0\u001b[39m:\n\u001b[1;32m---> 56\u001b[0m     \u001b[38;5;28;01mraise\u001b[39;00m \u001b[38;5;167;01mEnvironmentError\u001b[39;00m(\u001b[38;5;124m\"\u001b[39m\u001b[38;5;124mTesseract not found in environment. Check variables and PATH\u001b[39m\u001b[38;5;124m\"\u001b[39m)\n\u001b[0;32m     58\u001b[0m \u001b[38;5;66;03m# Check if requested languages are available\u001b[39;00m\n\u001b[0;32m     59\u001b[0m \u001b[38;5;28;01mtry\u001b[39;00m:\n",
      "\u001b[1;31mOSError\u001b[0m: Tesseract not found in environment. Check variables and PATH"
     ]
    }
   ],
   "source": [
    "from img2table.ocr import TesseractOCR\n",
    "from img2table.document import Image\n",
    "import pytesseract\n",
    "\n",
    "# Instantiation of OCR\n",
    "ocr = TesseractOCR(n_threads=1, lang=\"eng\")\n",
    "\n",
    "# Instantiation of document, either an image or a PDF\n",
    "# doc = Image(pdf_path)\n",
    "\n",
    "# Table extraction\n",
    "extracted_tables = doc.extract_tables(ocr=ocr,\n",
    "                                      implicit_rows=False,\n",
    "                                      implicit_columns=False,\n",
    "                                      borderless_tables=False,\n",
    "                                      min_confidence=50)"
   ]
  },
  {
   "cell_type": "code",
   "execution_count": null,
   "metadata": {},
   "outputs": [
    {
     "data": {
      "text/html": [
       "<div>\n",
       "<style scoped>\n",
       "    .dataframe tbody tr th:only-of-type {\n",
       "        vertical-align: middle;\n",
       "    }\n",
       "\n",
       "    .dataframe tbody tr th {\n",
       "        vertical-align: top;\n",
       "    }\n",
       "\n",
       "    .dataframe thead th {\n",
       "        text-align: right;\n",
       "    }\n",
       "</style>\n",
       "<table border=\"1\" class=\"dataframe\">\n",
       "  <thead>\n",
       "    <tr style=\"text-align: right;\">\n",
       "      <th></th>\n",
       "      <th>id_information</th>\n",
       "      <th>table_number</th>\n",
       "    </tr>\n",
       "  </thead>\n",
       "  <tbody>\n",
       "    <tr>\n",
       "      <th>0</th>\n",
       "      <td>HMMS03-M16CF</td>\n",
       "      <td>1</td>\n",
       "    </tr>\n",
       "    <tr>\n",
       "      <th>1</th>\n",
       "      <td>HMMS04-M14CF</td>\n",
       "      <td>1</td>\n",
       "    </tr>\n",
       "    <tr>\n",
       "      <th>2</th>\n",
       "      <td>HMMS04-M16CF</td>\n",
       "      <td>1</td>\n",
       "    </tr>\n",
       "    <tr>\n",
       "      <th>3</th>\n",
       "      <td>HMMS04-M18CF</td>\n",
       "      <td>1</td>\n",
       "    </tr>\n",
       "    <tr>\n",
       "      <th>4</th>\n",
       "      <td>HMMS05-M18CF</td>\n",
       "      <td>1</td>\n",
       "    </tr>\n",
       "    <tr>\n",
       "      <th>...</th>\n",
       "      <td>...</td>\n",
       "      <td>...</td>\n",
       "    </tr>\n",
       "    <tr>\n",
       "      <th>104</th>\n",
       "      <td>HSSP16-45-25CF</td>\n",
       "      <td>7</td>\n",
       "    </tr>\n",
       "    <tr>\n",
       "      <th>105</th>\n",
       "      <td>HSSP16-45-30CF</td>\n",
       "      <td>7</td>\n",
       "    </tr>\n",
       "    <tr>\n",
       "      <th>106</th>\n",
       "      <td>HSSP16-45-38CF</td>\n",
       "      <td>7</td>\n",
       "    </tr>\n",
       "    <tr>\n",
       "      <th>107</th>\n",
       "      <td>HSSP20-45-30CF</td>\n",
       "      <td>None</td>\n",
       "    </tr>\n",
       "    <tr>\n",
       "      <th>108</th>\n",
       "      <td>HSSP20-45-38CF</td>\n",
       "      <td>None</td>\n",
       "    </tr>\n",
       "  </tbody>\n",
       "</table>\n",
       "<p>109 rows × 2 columns</p>\n",
       "</div>"
      ],
      "text/plain": [
       "     id_information table_number\n",
       "0      HMMS03-M16CF            1\n",
       "1      HMMS04-M14CF            1\n",
       "2      HMMS04-M16CF            1\n",
       "3      HMMS04-M18CF            1\n",
       "4      HMMS05-M18CF            1\n",
       "..              ...          ...\n",
       "104  HSSP16-45-25CF            7\n",
       "105  HSSP16-45-30CF            7\n",
       "106  HSSP16-45-38CF            7\n",
       "107  HSSP20-45-30CF         None\n",
       "108  HSSP20-45-38CF         None\n",
       "\n",
       "[109 rows x 2 columns]"
      ]
     },
     "execution_count": 26,
     "metadata": {},
     "output_type": "execute_result"
    }
   ],
   "source": [
    "df.drop_duplicates(subset='id_information')"
   ]
  },
  {
   "cell_type": "code",
   "execution_count": null,
   "metadata": {},
   "outputs": [
    {
     "data": {
      "text/plain": [
       "'\\n\\n--- Page 1 ---\\n\\n6\\n1.01    Hydraulic Hose & Inserts\\nHydraulics\\n1\\n EN853-1, DIN20022 (Exceeds SAE 100R1AT)\\n1 Wire, 40 Metre Coils\\n0303\\nID\\nOD mm\\nMax\\nPressure\\nBar\\nBend\\nRadius\\nmm\\nBurst\\nPressure\\nBar\\n100R1AT-20-40\\n1.1/4”\\n44.8\\n63\\n420\\n250\\n100R1AT-24-40\\n1.1/2”\\n52\\n50\\n500\\n200\\n100R1AT-32-40\\n2”\\n65.9\\n40\\n630\\n160\\nTech Sheet 5001\\n1 Wire, 100 Metre Coils\\n0303\\nID\\nOD mm\\nMax\\nPressure\\nBar\\nBend\\nRadius\\nmm\\nBurst\\nPressure\\nBar\\n100R1AT-03-100\\n3/16”\\n12.5\\n250\\n90\\n1000\\n100R1AT-04-100\\n1/4”\\n14.1\\n225\\n100\\n900\\n100R1AT-05-100\\n5/16”\\n15.7\\n215\\n115\\n850\\n100R1AT-06-100\\n3/8”\\n18.1\\n180\\n130\\n720\\n100R1AT-08-100\\n1/2”\\n21.4\\n160\\n180\\n640\\n100R1AT-10-100\\n5/8”\\n24.5\\n130\\n200\\n520\\n100R1AT-12-100\\n3/4”\\n28.5\\n105\\n240\\n420\\n100R1AT-16-100\\n1”\\n36.6\\n88\\n300\\n350\\nTech Sheet 5001\\nApplication:\\nMedium pressure hydraulic applications\\nSpecim cation:\\nDIN 20022, EN853 – 1 Exceeds 100 R1AT\\nConstruction:\\n Inner tube: oil resistant synthetic rubber (NBR)\\nReinforcement: 1 single steel wire braid\\nOuter cover: oil and weather resistant\\nsynthetic rubber\\nRecommended Fluids:\\n Hose suitable for petroleum based\\nhydraulic oil and water-glycol based\\n. uids, air and water\\nWorking Temperature:\\n-40°C to +100°C\\nNB:  For air above 17 bar,\\nthe hose cover must\\nbe pin-pricked\\nAvailable per 1 metre\\nSmooth cover available\\non request\\nHYDRAULIC HOSE RANGE\\nPart\\nNumber\\nSize\\nWorking \\nPressure\\nBurst \\nPressure\\nBend Radius\\nSwaging Dimensions\\n Tail ID Top \\nTolerance\\nTail ID \\nBottom\\nTolerance\\nSwaged \\nNo Go\\nSwaged\\nGo\\nmm\\ninch\\nbar\\npsi\\nbar\\npsi\\nInch\\nmm\\nFT3 Type \\nFerrule\\nSwage Dia. \\nin mm\\nmm\\nmm\\nmm\\nmm\\n100R1AT-03\\n4.7\\n3/16\\n250\\n3625\\n1000\\n14503\\n3.54\\n90\\nFT3-12-03CF\\n15\\n2.89\\n3.05\\n2.80\\n2.93\\n100R1AT-04\\n6.3\\n1/4\\n225\\n3260\\n900\\n13050\\n3.94\\n100\\nFT3-12-04CF\\n17.8\\n3.86\\n3.67\\n3.67\\n3.45\\n100R1AT-05\\n8\\n5/16\\n215\\n3120\\n850\\n12325\\n4.53\\n115\\nFT3-12-05CF\\n20.5\\n5.29\\n5.11\\n5.11\\n4.91\\n100R1AT-06\\n10\\n3/8\\n180\\n2610\\n720\\n10440\\n5.12\\n130\\nFT3-12-06CF\\n21.6\\n6.78\\n6.42\\n6.42\\n6.13\\n100R1AT-08\\n12.5\\n1/2\\n160\\n2320\\n640\\n9280\\n7.09\\n180\\nFT3-12-08CF\\n24\\n9.21\\n8.86\\n8.86\\n8.4\\n100R1AT-10\\n16\\n5/8\\n130\\n1885\\n520\\n7540\\n7.87\\n200\\nFT3-12-10CF\\n28.7\\n12.09\\n11.59\\n11.59\\n10.99\\n100R1AT-12\\n19\\n3/4\\n105\\n1520\\n420\\n6090\\n9.45\\n240\\nFT3-12-12CF\\n31.3\\n14.46\\n13.91\\n13.91\\n13.31\\n100R1AT-16\\n25\\n1\\n88\\n1280\\n350\\n5075\\n11.81\\n300\\nFT3-12-16CF\\n41\\n18.89\\n18.29\\n18.29\\n17.68\\n100R1AT-20\\n31.5\\n1.1/4\\n63\\n910\\n250\\n3625\\n16.54\\n420\\nFT3-12-20CF\\n48.5\\n25.4\\n24.69\\n24.69\\n23.8\\n100R1AT-24\\n38\\n1.1/2\\n50\\n725\\n200\\n2900\\n19.69\\n500\\nFT3-12-24CF\\n58.5\\n31.4\\n30.6\\n30.6\\n29.8\\n100R1AT-32\\n51\\n2\\n40\\n580\\n160\\n2320\\n24.8\\n630\\nFT3-12-32CF\\n70\\n41.4\\n40.6\\n40.6\\n30.8\\nHydraulic Hose, EN853, DIN20022, SAE100R1AT\\nTechnical Data\\n\\n|-|+++|-|\\n'"
      ]
     },
     "execution_count": 104,
     "metadata": {},
     "output_type": "execute_result"
    }
   ],
   "source": [
    "extracted_text"
   ]
  },
  {
   "cell_type": "code",
   "execution_count": null,
   "metadata": {},
   "outputs": [
    {
     "data": {
      "text/plain": [
       "__main__.structured_output"
      ]
     },
     "execution_count": 98,
     "metadata": {},
     "output_type": "execute_result"
    }
   ],
   "source": [
    "dynamic_structured_output_class"
   ]
  },
  {
   "cell_type": "code",
   "execution_count": null,
   "metadata": {},
   "outputs": [
    {
     "data": {
      "text/plain": [
       "'C:/Users/derri/Desktop/page0012.pdf'"
      ]
     },
     "execution_count": 101,
     "metadata": {},
     "output_type": "execute_result"
    }
   ],
   "source": [
    "pdf_path"
   ]
  },
  {
   "cell_type": "code",
   "execution_count": null,
   "metadata": {},
   "outputs": [
    {
     "name": "stdout",
     "output_type": "stream",
     "text": [
      "{'header': list[str], '0303': list[str], 'id': list[str], 'od_mm': list[str]}\n"
     ]
    }
   ],
   "source": [
    "print(dynamic_structured_output_class.__annotations__)\n"
   ]
  },
  {
   "cell_type": "code",
   "execution_count": null,
   "metadata": {},
   "outputs": [
    {
     "data": {
      "text/plain": [
       "{'header': ['HYDRAULIC HOSE RANGE',\n",
       "  'HYDRAULIC HOSE RANGE',\n",
       "  None,\n",
       "  None,\n",
       "  None,\n",
       "  None,\n",
       "  None,\n",
       "  None,\n",
       "  None,\n",
       "  None,\n",
       "  None,\n",
       "  None,\n",
       "  None,\n",
       "  None,\n",
       "  None,\n",
       "  None],\n",
       " 'id': ['0303',\n",
       "  '0303',\n",
       "  '0303',\n",
       "  '0303',\n",
       "  '0303',\n",
       "  '0303',\n",
       "  '0303',\n",
       "  '0303',\n",
       "  '0303',\n",
       "  '0303',\n",
       "  '0303',\n",
       "  '0303',\n",
       "  '0303',\n",
       "  '0303',\n",
       "  '0303',\n",
       "  '0303'],\n",
       " 'od_mm': ['44.8',\n",
       "  '52',\n",
       "  '65.9',\n",
       "  '12.5',\n",
       "  '14.1',\n",
       "  '15.7',\n",
       "  '18.1',\n",
       "  '21.4',\n",
       "  '24.5',\n",
       "  '28.5',\n",
       "  '36.6',\n",
       "  '31.5',\n",
       "  '38',\n",
       "  '51',\n",
       "  '25',\n",
       "  '31.5']}"
      ]
     },
     "execution_count": 103,
     "metadata": {},
     "output_type": "execute_result"
    }
   ],
   "source": [
    "data"
   ]
  },
  {
   "cell_type": "code",
   "execution_count": null,
   "metadata": {},
   "outputs": [
    {
     "data": {
      "text/html": [
       "<div>\n",
       "<style scoped>\n",
       "    .dataframe tbody tr th:only-of-type {\n",
       "        vertical-align: middle;\n",
       "    }\n",
       "\n",
       "    .dataframe tbody tr th {\n",
       "        vertical-align: top;\n",
       "    }\n",
       "\n",
       "    .dataframe thead th {\n",
       "        text-align: right;\n",
       "    }\n",
       "</style>\n",
       "<table border=\"1\" class=\"dataframe\">\n",
       "  <thead>\n",
       "    <tr style=\"text-align: right;\">\n",
       "      <th></th>\n",
       "      <th>order_number</th>\n",
       "      <th>model_number</th>\n",
       "      <th>heading</th>\n",
       "    </tr>\n",
       "  </thead>\n",
       "  <tbody>\n",
       "    <tr>\n",
       "      <th>0</th>\n",
       "      <td>1051042861</td>\n",
       "      <td>NLESTOP37ENC</td>\n",
       "      <td>PUSH BUTTON STATIONS</td>\n",
       "    </tr>\n",
       "    <tr>\n",
       "      <th>1</th>\n",
       "      <td>1051042862</td>\n",
       "      <td>NLESTOP60ENC</td>\n",
       "      <td>PUSH BUTTON STATION ENCLOSURES</td>\n",
       "    </tr>\n",
       "    <tr>\n",
       "      <th>2</th>\n",
       "      <td>1051042863</td>\n",
       "      <td>NLESTOPKRENC</td>\n",
       "      <td>None</td>\n",
       "    </tr>\n",
       "    <tr>\n",
       "      <th>3</th>\n",
       "      <td>1051042864</td>\n",
       "      <td>NL2POSKSENC</td>\n",
       "      <td>None</td>\n",
       "    </tr>\n",
       "    <tr>\n",
       "      <th>4</th>\n",
       "      <td>1051042866</td>\n",
       "      <td>NLSSENC</td>\n",
       "      <td>None</td>\n",
       "    </tr>\n",
       "    <tr>\n",
       "      <th>5</th>\n",
       "      <td>1051042865</td>\n",
       "      <td>NLSENC</td>\n",
       "      <td>None</td>\n",
       "    </tr>\n",
       "    <tr>\n",
       "      <th>6</th>\n",
       "      <td>1051042878</td>\n",
       "      <td>NLPBENC1</td>\n",
       "      <td>None</td>\n",
       "    </tr>\n",
       "    <tr>\n",
       "      <th>7</th>\n",
       "      <td>1051042879</td>\n",
       "      <td>NLPBENC2</td>\n",
       "      <td>None</td>\n",
       "    </tr>\n",
       "  </tbody>\n",
       "</table>\n",
       "</div>"
      ],
      "text/plain": [
       "  order_number  model_number                         heading\n",
       "0   1051042861  NLESTOP37ENC            PUSH BUTTON STATIONS\n",
       "1   1051042862  NLESTOP60ENC  PUSH BUTTON STATION ENCLOSURES\n",
       "2   1051042863  NLESTOPKRENC                            None\n",
       "3   1051042864   NL2POSKSENC                            None\n",
       "4   1051042866       NLSSENC                            None\n",
       "5   1051042865        NLSENC                            None\n",
       "6   1051042878      NLPBENC1                            None\n",
       "7   1051042879      NLPBENC2                            None"
      ]
     },
     "execution_count": 90,
     "metadata": {},
     "output_type": "execute_result"
    }
   ],
   "source": [
    "# Create a DataFrame from the dictionary\n",
    "df = pd.DataFrame(data)\n",
    "\n",
    "df"
   ]
  },
  {
   "cell_type": "code",
   "execution_count": null,
   "metadata": {},
   "outputs": [
    {
     "data": {
      "text/plain": [
       "['\\n\\n--- Page 5 ---\\n\\n\\tPUSH BUTTON STATIONS\\nOrder No.\\nModel No.\\nDescription\\nContact Included\\nPrice\\nPUSH BUTTON STATIONS\\n1051042861\\nNLESTOP37ENC\\nEmergency Stop Twist Release 37mm\\n1 x NC\\n£0.00\\n1051042862\\nNLESTOP60ENC\\nEmergency Stop Twist Release 60mm\\n1 x NC\\n£0.00\\n1051042863\\nNLESTOPKRENC\\nEmergency Stop Key Release 37mm\\n1 x NC\\n£0.00\\n1051042864\\nNL2POSKSENC\\n2 Position Key Switch\\n1 x NO\\n£0.00\\n1051042866\\nNLSSENC\\nStart/Stop\\n1 x NO/1 x NC\\n£0.00\\n1051042865\\nNLSENC\\nStart\\n1 x NO\\n£0.00\\n•\\tManufactured in accordance with EN60947-5-1, \\nEN60947-5-5 where applicable \\n•\\tIP65 rated (when correctly installed) \\n•\\tM20/PG16 gland entries\\n•\\t22mm push button range made for tough environments \\n•\\tInsulated self extinguishing ABS plastic housing\\n•\\tCommon auxiliaries throughout push button range\\n•\\tSpace for an additional contact block on each actuator\\n•\\tLight grey lid / dark grey base (yellow lid for Estop)\\n•\\tStainless steel captive screws\\n•\\tSupplied with 1 contact per actuator\\nNL2POSKSENC\\nNLESTOP37ENC\\nNLESTOP60ENC\\nNLESTOPPALM\\n\\tPUSH BUTTON STATION \\nENCLOSURES\\nOrder No.\\nModel No.\\nDescription\\nPrice\\nPUSH BUTTON STATION ENCLOSURES\\n1051042878\\nNLPBENC1\\nPushbutton Enclosure \\n22mm 1 Way Grey IP65\\n£0.00\\n1051042879\\nNLPBENC2\\nPushbutton Enclosure \\n22mm 2 Way Grey IP65\\n£0.00\\n•\\tIP65 rated (when correct pushbutton device installed \\n•\\tInsulated self extinguishing ABS plastic housing\\nNLPBENC1\\nNLPBENC2\\nSave time – click and collect in 1 hour\\n15 5\\nNEED TOOLS?\\nSEE THE REXEL ELECTRICAL  \\nESSENTIALS CATALOGUE  \\nFOR OUR EXTENSIVE RANGE\\n\\n',\n",
       " '\\n']"
      ]
     },
     "execution_count": 100,
     "metadata": {},
     "output_type": "execute_result"
    }
   ],
   "source": [
    "extracted_text_list"
   ]
  },
  {
   "cell_type": "code",
   "execution_count": null,
   "metadata": {},
   "outputs": [
    {
     "data": {
      "text/plain": [
       "'{\"order_number\":[\"1051042861\",\"1051042862\",\"1051042863\",\"1051042864\",\"1051042866\",\"1051042865\",\"1051042878\",\"1051042879\"],\"model_number\":[\"NLESTOP37ENC\",\"NLESTOP60ENC\",\"NLESTOPKRENC\",\"NL2POSKSENC\",\"NLSSENC\",\"NLSENC\",\"NLPBENC1\",\"NLPBENC2\"]}'"
      ]
     },
     "execution_count": 74,
     "metadata": {},
     "output_type": "execute_result"
    }
   ],
   "source": [
    "out  = completion.choices[0].message.content\n",
    "out"
   ]
  },
  {
   "cell_type": "code",
   "execution_count": null,
   "metadata": {},
   "outputs": [
    {
     "name": "stdout",
     "output_type": "stream",
     "text": [
      "  order_number  model_number\n",
      "0   1051042861  NLESTOP37ENC\n",
      "1   1051042862  NLESTOP60ENC\n",
      "2   1051042863  NLESTOPKRENC\n",
      "3   1051042864   NL2POSKSENC\n",
      "4   1051042866       NLSSENC\n",
      "5   1051042865        NLSENC\n",
      "6   1051042878      NLPBENC1\n",
      "7   1051042879      NLPBENC2\n"
     ]
    }
   ],
   "source": [
    "# Parse the JSON string into a dictionary\n",
    "import json\n",
    "import pandas as pd \n",
    "\n",
    "# Display the DataFrame\n",
    "print(df)"
   ]
  },
  {
   "cell_type": "code",
   "execution_count": null,
   "metadata": {},
   "outputs": [
    {
     "name": "stdout",
     "output_type": "stream",
     "text": [
      "{'driver_name': list[str], 'stock_quantity': list[str], 'colour': list[str]}\n"
     ]
    }
   ],
   "source": [
    "prompt_variable_extractor = \"\"\" \n",
    "\n",
    " You are a skilled data extraction and parsing specialist with expertise in analysing text documents and extracting structured information, these could be from a varity of sources including PDFs and many others. \n",
    "          Your job is to extract data for the provided variable(s) from a text document in line with the user's request and return them in JSON format where each value is associated with each other.  \n",
    "\n",
    " \n",
    "          ''''''''''''''''\n",
    "          User's request: \" I would like to extract the Order No and Model from the pdf document. The order number looks something like this (1051042839) and the model No is an mixture of numbers and letters and looks like this for instance NLOLC1\n",
    "          I would also like to extract the heading which is usually uppercased and above the order and model number. \n",
    "          ''''''''''''''''\n",
    "           \n",
    "          Target variable(s): [model_number, order_number]\n",
    "           \n",
    "text document: ['\\n\\n--- Page 3 ---\\n\\n\\tSTEEL ENCLOSED CONTACTORS\\nOrder No.\\nModel No.\\nAC1 Heating & \\nGeneral Load\\nFluorescent \\nMercury\\nHalogen\\nLED\\nNo. of Poles\\nDimensions HxWxD\\nSTEEL ENCLOSED CONTACTORS\\n1051042857\\nNLCONM25/4\\n25A\\n16A\\n13A\\n25A\\n4 + N\\n184 x 184 x 149mm\\n1051042858\\nNLCONM45/4\\n40A\\n27A\\n22A\\n40A\\n4 + N\\n184 x 184 x 149mm\\n1051042859\\nNLCONM63/3N\\n60A\\n40A\\n32A\\n60A\\n3 + N\\n305 x 285 x 159mm\\n•\\tManufactured in accordance with EN60947-4-1 \\n•\\tIP55 steel enclosure\\n•\\tStandard coil voltage: 230V 50/60Hz\\n•\\tAuxiliary contacts can be fitted\\n•\\tColour RAL7035 light grey\\n•\\tKnockouts top and bottom\\n•\\tAll units are suitable for two wire control i.e. time \\nswitch, thermostat, sensor or other remote controls\\n•\\tSupplied complete with neutral terminals\\nNLCONM100/3N\\n\\tDIRECT ON LINE, REVERSING & \\nSTAR DELTA STARTERS\\n•\\tManufactured in accordance with EN60947-4-1 \\n•\\tIP55 steel enclosure\\n•\\tColour RAL7035 light grey\\n•\\tSurface mounting\\n•\\tStandard coil voltages: 230V or 400V 50/60Hz\\n•\\tBuilt in start/stop and reset push button\\n•\\tHand reset thermal overloads\\n•\\tOverload to be ordered separately\\n•\\tStainless steel pozidrive fixing screws for lid\\n•\\tKnockouts top and bottom\\n•\\tInternal components DIN rail mounted\\nOrder No.\\nModel No.\\nMax Rating\\nControl Voltage\\nDimensions H x W x D\\nType\\nDIRECT ON LINE & REVERSING STARTERS\\n1051042849\\nNLSTM27C\\n7.5kW\\n230V\\n174 x 104 x 134mm\\nDirect on Line\\n£0.00\\n1051042850\\nNLSTM47C\\n7.5kW\\n400V\\n174 x 104 x 134mm\\nDirect on Line\\n£0.00\\n1051042856\\nNLRVM45C\\n5.5kW\\n400V\\n184 x 184 x 149mm\\nReversing\\n£0.00\\n1051042851\\nNLSTM25CSW\\n5.5kW\\n230V\\n184 x 184 x 149mm\\nDOL With Isolator\\n£0.00\\n1051042852\\nNLSTM45CSW\\n5.5kW\\n400V\\n184 x 184 x 149mm\\nDOL With Isolator\\n£0.00\\n1051042854\\nNLSDM415C\\n15kW\\n400V\\n184 x 284 x 149mm\\nStar Delta\\n£0.00\\nNLSTM27C\\nStock items delivered FREE anywhere in UK\\n15 3\\n\\n',\n",
    " '\\n']\n",
    "\n",
    "Output:\n",
    "\n",
    "[\n",
    "  {\n",
    "    \"heading\": \"STEEL ENCLOSED CONTACTORS\",\n",
    "    \"order_number\": \"1051042857\",\n",
    "    \"model_number\": \"NLCONM25/4\"\n",
    "  },\n",
    "  {\n",
    "    \"heading\": \"STEEL ENCLOSED CONTACTORS\",\n",
    "    \"order_number\": \"1051042858\",\n",
    "    \"model_number\": \"NLCONM45/4\"\n",
    "  },\n",
    "  {\n",
    "    \"heading\": \"STEEL ENCLOSED CONTACTORS\",\n",
    "    \"order_number\": \"1051042859\",\n",
    "    \"model_number\": \"NLCONM63/3N\"\n",
    "  },\n",
    "  {\n",
    "    \"heading\": \"DIRECT ON LINE, REVERSING & STAR DELTA STARTERS\",\n",
    "    \"order_number\": \"1051042849\",\n",
    "    \"model_number\": \"NLSTM27C\"\n",
    "  },\n",
    "  {\n",
    "    \"heading\": \"DIRECT ON LINE, REVERSING & STAR DELTA STARTERS\",\n",
    "    \"order_number\": \"1051042850\",\n",
    "    \"model_number\": \"NLSTM47C\"\n",
    "  },\n",
    "  {\n",
    "    \"heading\": \"DIRECT ON LINE, REVERSING & STAR DELTA STARTERS\",\n",
    "    \"order_number\": \"1051042856\",\n",
    "    \"model_number\": \"NLRVM45C\"\n",
    "  },\n",
    "  {\n",
    "    \"heading\": \"DIRECT ON LINE, REVERSING & STAR DELTA STARTERS\",\n",
    "    \"order_number\": \"1051042851\",\n",
    "    \"model_number\": \"NLSTM25CSW\"\n",
    "  },\n",
    "  {\n",
    "    \"heading\": \"DIRECT ON LINE, REVERSING & STAR DELTA STARTERS\",\n",
    "    \"order_number\": \"1051042852\",\n",
    "    \"model_number\": \"NLSTM45CSW\"\n",
    "  },\n",
    "  {\n",
    "    \"heading\": \"DIRECT ON LINE, REVERSING & STAR DELTA STARTERS\",\n",
    "    \"order_number\": \"1051042854\",\n",
    "    \"model_number\": \"NLSDM415C\"\n",
    "  }\n",
    "]\n",
    "\n",
    "\n",
    "\"\"\"\n"
   ]
  }
 ],
 "metadata": {
  "kernelspec": {
   "display_name": "pdf_ai",
   "language": "python",
   "name": "python3"
  },
  "language_info": {
   "codemirror_mode": {
    "name": "ipython",
    "version": 3
   },
   "file_extension": ".py",
   "mimetype": "text/x-python",
   "name": "python",
   "nbconvert_exporter": "python",
   "pygments_lexer": "ipython3",
   "version": "3.12.8"
  }
 },
 "nbformat": 4,
 "nbformat_minor": 2
}
